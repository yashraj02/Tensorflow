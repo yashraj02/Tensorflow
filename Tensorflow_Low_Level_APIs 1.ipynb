{
  "nbformat": 4,
  "nbformat_minor": 0,
  "metadata": {
    "colab": {
      "name": "Tensorflow Low Level APIs.ipynb",
      "provenance": [],
      "authorship_tag": "ABX9TyM84RUTGrjBYhobdMhITlPQ",
      "include_colab_link": true
    },
    "kernelspec": {
      "name": "python3",
      "display_name": "Python 3"
    }
  },
  "cells": [
    {
      "cell_type": "markdown",
      "metadata": {
        "id": "view-in-github",
        "colab_type": "text"
      },
      "source": [
        "<a href=\"https://colab.research.google.com/github/yashraj02/Tensorflow/blob/master/Tensorflow_Low_Level_APIs%201.ipynb\" target=\"_parent\"><img src=\"https://colab.research.google.com/assets/colab-badge.svg\" alt=\"Open In Colab\"/></a>"
      ]
    },
    {
      "cell_type": "markdown",
      "metadata": {
        "id": "abKJMdvKtn8V",
        "colab_type": "text"
      },
      "source": [
        "**Explore Tensorflow Low level operations.**   \n",
        "This code has required version dependencies.  \n",
        "Kindly run the pip commands mentioned at the bottom of the pasge for version interruptions "
      ]
    },
    {
      "cell_type": "code",
      "metadata": {
        "id": "9vrhawva92DZ",
        "colab_type": "code",
        "colab": {
          "base_uri": "https://localhost:8080/",
          "height": 70
        },
        "outputId": "241dce33-720c-42c8-e783-79d93d616cfc"
      },
      "source": [
        "import tensorflow as tf\n",
        "print(tf.__version__)\n",
        "hello = tf.constant(\"Hello\")\n",
        "world = tf.constant(\"World\")\n",
        "print(hello)\n",
        "with tf.Session() as sess:\n",
        "  result = sess.run(hello)\n",
        "print(result)"
      ],
      "execution_count": 33,
      "outputs": [
        {
          "output_type": "stream",
          "text": [
            "1.13.1\n",
            "Tensor(\"Const_10:0\", shape=(), dtype=string)\n",
            "b'Hello'\n"
          ],
          "name": "stdout"
        }
      ]
    },
    {
      "cell_type": "code",
      "metadata": {
        "id": "tJ8NY-YWQDXV",
        "colab_type": "code",
        "colab": {}
      },
      "source": [
        "import tensorflow as tf\n",
        "sess = tf.InteractiveSession()\n",
        "my_tensor = tf.random_uniform((4,4),0,1)\n",
        "my_var = tf.Variable(my_tensor)\n",
        "# sess.run(my_var)\n",
        "init = tf.global_variables_initializer()\n",
        "sess.run(init)\n",
        "sess.run(my_var)"
      ],
      "execution_count": 32,
      "outputs": []
    },
    {
      "cell_type": "code",
      "metadata": {
        "id": "CRd24VuoTnba",
        "colab_type": "code",
        "colab": {}
      },
      "source": [
        "ph = tf.placeholder(tf.float32, shape=(None,5))\n"
      ],
      "execution_count": null,
      "outputs": []
    },
    {
      "cell_type": "markdown",
      "metadata": {
        "id": "NJsxAtsKVzeV",
        "colab_type": "text"
      },
      "source": [
        "TF GRAPH"
      ]
    },
    {
      "cell_type": "code",
      "metadata": {
        "id": "PVgxdqZ5Vyjw",
        "colab_type": "code",
        "colab": {
          "base_uri": "https://localhost:8080/",
          "height": 104
        },
        "outputId": "4a106d56-99d9-4b33-a631-d4c274ed73a9"
      },
      "source": [
        "import numpy as np\n",
        "import tensorflow as tf\n",
        "tf.set_random_seed(101)\n",
        "randomA = np.random.uniform(0,100,(5,5))\n",
        "randomA"
      ],
      "execution_count": null,
      "outputs": [
        {
          "output_type": "execute_result",
          "data": {
            "text/plain": [
              "array([[82.87681837, 98.16531445, 85.12881022, 72.67286419, 59.81111552],\n",
              "       [44.56124753, 23.68516204, 84.11915722, 32.04421209, 38.15938748],\n",
              "       [69.99652914, 53.86294004, 84.52563407,  8.53828287, 61.17231677],\n",
              "       [25.03770966, 22.97964399,  4.52312408, 23.26226351, 36.54418297],\n",
              "       [62.55222649, 33.0530819 ,  0.17920249, 47.20841451, 74.21472355]])"
            ]
          },
          "metadata": {
            "tags": []
          },
          "execution_count": 16
        }
      ]
    },
    {
      "cell_type": "code",
      "metadata": {
        "id": "byU4FLoxWQlf",
        "colab_type": "code",
        "colab": {
          "base_uri": "https://localhost:8080/",
          "height": 104
        },
        "outputId": "08c2842e-77f1-4fdb-83d6-6b57b549f872"
      },
      "source": [
        "randomB = np.random.uniform(0,100,(5,1))\n",
        "randomB"
      ],
      "execution_count": null,
      "outputs": [
        {
          "output_type": "execute_result",
          "data": {
            "text/plain": [
              "array([[22.64085176],\n",
              "       [96.43023067],\n",
              "       [67.59181796],\n",
              "       [61.18533988],\n",
              "       [13.2868955 ]])"
            ]
          },
          "metadata": {
            "tags": []
          },
          "execution_count": 18
        }
      ]
    },
    {
      "cell_type": "code",
      "metadata": {
        "id": "MAHd7FJNWhBn",
        "colab_type": "code",
        "colab": {}
      },
      "source": [
        "a = tf.placeholder(tf.float32)\n",
        "b = tf.placeholder(tf.float32)"
      ],
      "execution_count": null,
      "outputs": []
    },
    {
      "cell_type": "code",
      "metadata": {
        "id": "4KAxFHnLWrzk",
        "colab_type": "code",
        "colab": {}
      },
      "source": [
        "add_op = a + b\n",
        "mul_op = a*b"
      ],
      "execution_count": null,
      "outputs": []
    },
    {
      "cell_type": "code",
      "metadata": {
        "id": "V_fuS-wmWyr4",
        "colab_type": "code",
        "colab": {
          "base_uri": "https://localhost:8080/",
          "height": 225
        },
        "outputId": "90c7400e-e304-4419-d355-328799138a1e"
      },
      "source": [
        "with tf.Session() as sess:\n",
        "  add_result = sess.run(add_op, feed_dict={a:randomA, b:randomB})\n",
        "  print(add_result)\n",
        "  print('*'*100)\n",
        "  multiply_result = sess.run(mul_op, feed_dict={a:randomA, b:randomB})\n",
        "  print(multiply_result)\n",
        "  print('*'*100)"
      ],
      "execution_count": null,
      "outputs": [
        {
          "output_type": "stream",
          "text": [
            "[[105.51767  120.80617  107.76966   95.31372   82.451965]\n",
            " [140.99149  120.11539  180.54938  128.47444  134.58961 ]\n",
            " [137.58835  121.45476  152.11746   76.130104 128.76413 ]\n",
            " [ 86.22305   84.164986  65.708466  84.4476    97.72952 ]\n",
            " [ 75.83913   46.339977  13.466098  60.49531   87.50162 ]]\n",
            "****************************************************************************************************\n",
            "[[1.8764017e+03 2.2225464e+03 1.9273887e+03 1.6453756e+03 1.3541746e+03]\n",
            " [4.2970513e+03 2.2839656e+03 8.1116294e+03 3.0900308e+03 3.6797183e+03]\n",
            " [4.7311929e+03 3.6406943e+03 5.7132417e+03 5.7711804e+02 4.1347480e+03]\n",
            " [1.5319408e+03 1.4060175e+03 2.7674890e+02 1.4233096e+03 2.2359683e+03]\n",
            " [8.3112494e+02 4.3917285e+02 2.3810446e+00 6.2725330e+02 9.8608325e+02]]\n",
            "****************************************************************************************************\n"
          ],
          "name": "stdout"
        }
      ]
    },
    {
      "cell_type": "markdown",
      "metadata": {
        "id": "S4NIuxU2Xn-G",
        "colab_type": "text"
      },
      "source": [
        "Example Neural Network"
      ]
    },
    {
      "cell_type": "code",
      "metadata": {
        "id": "iIxaAxC2Xr0C",
        "colab_type": "code",
        "colab": {
          "base_uri": "https://localhost:8080/",
          "height": 35
        },
        "outputId": "549246e8-921b-48b1-b257-a787fa2be8e2"
      },
      "source": [
        "import numpy as np\n",
        "import tensorflow as tf\n",
        "nfeatures = 10\n",
        "neurons = 3\n",
        "x = tf.placeholder(tf.float32,(None,nfeatures))\n",
        "W = tf.Variable(tf.random_normal([nfeatures,neurons]))\n",
        "b = tf.Variable(tf.ones([neurons]))\n",
        "xW = tf.matmul(x,W)\n",
        "z = tf.add(xW,b)\n",
        "a = tf.sigmoid(z)\n",
        "init = tf.global_variables_initializer()\n",
        "with tf.Session() as sess:\n",
        "  sess.run(init)\n",
        "  layer_out = sess.run(a, feed_dict={x:np.random.random([1,nfeatures])})\n",
        "print(\"Predictions : \",layer_out)"
      ],
      "execution_count": 11,
      "outputs": [
        {
          "output_type": "stream",
          "text": [
            "Predictions :  [[0.63849425 0.33210474 0.3174785 ]]\n"
          ],
          "name": "stdout"
        }
      ]
    },
    {
      "cell_type": "code",
      "metadata": {
        "id": "O_Hp-4aNtkeC",
        "colab_type": "code",
        "colab": {}
      },
      "source": [
        ""
      ],
      "execution_count": null,
      "outputs": []
    },
    {
      "cell_type": "code",
      "metadata": {
        "id": "FD89wXiYtkb4",
        "colab_type": "code",
        "colab": {}
      },
      "source": [
        ""
      ],
      "execution_count": null,
      "outputs": []
    },
    {
      "cell_type": "code",
      "metadata": {
        "id": "UelYDljYtkYU",
        "colab_type": "code",
        "colab": {}
      },
      "source": [
        ""
      ],
      "execution_count": null,
      "outputs": []
    },
    {
      "cell_type": "code",
      "metadata": {
        "id": "C-QDEmehtkWG",
        "colab_type": "code",
        "colab": {}
      },
      "source": [
        ""
      ],
      "execution_count": null,
      "outputs": []
    },
    {
      "cell_type": "code",
      "metadata": {
        "id": "2TP2WAY1tkTI",
        "colab_type": "code",
        "colab": {}
      },
      "source": [
        ""
      ],
      "execution_count": null,
      "outputs": []
    },
    {
      "cell_type": "code",
      "metadata": {
        "id": "jVmHBxM_tkNz",
        "colab_type": "code",
        "colab": {}
      },
      "source": [
        ""
      ],
      "execution_count": null,
      "outputs": []
    },
    {
      "cell_type": "code",
      "metadata": {
        "id": "a1uAiWMjtkLQ",
        "colab_type": "code",
        "colab": {}
      },
      "source": [
        "!pip install _ipyw_jlab_nb_ext_conf==0.1.0\n",
        "!pip install absl-py==0.9.0\n",
        "!pip install alabaster==0.7.12\n",
        "!pip install anaconda==2020.02\n",
        "!pip install anaconda-client==1.7.2\n",
        "!pip install anaconda-navigator==1.9.12\n",
        "!pip install anaconda-project==0.8.4\n",
        "!pip install argh==0.26.2\n",
        "!pip install asn1crypto==1.3.0\n",
        "!pip install astor==0.8.1\n",
        "!pip install astroid==2.3.3\n",
        "!pip install astropy==4.0\n",
        "!pip install atomicwrites==1.3.0\n",
        "!pip install attrs==19.3.0\n",
        "!pip install autopep8==1.4.4\n",
        "!pip install babel==2.8.0\n",
        "!pip install backcall==0.1.0\n",
        "!pip install backports==1.0\n",
        "!pip install backports.functools_lru_cache==1.6.1\n",
        "!pip install backports.shutil_get_terminal_size==1.0.0\n",
        "!pip install backports.tempfile==1.0\n",
        "!pip install backports.weakref==1.0.post1\n",
        "!pip install bcrypt==3.1.7\n",
        "!pip install beautifulsoup4==4.8.2\n",
        "!pip install bitarray==1.2.1\n",
        "!pip install bkcharts==0.2\n",
        "!pip install blas==1.0\n",
        "!pip install bleach==3.1.0\n",
        "!pip install blosc==1.16.3\n",
        "!pip install bokeh==1.4.0\n",
        "!pip install boto==2.49.0\n",
        "!pip install bottleneck==1.3.2\n",
        "!pip install bzip2==1.0.8\n",
        "!pip install ca-certificates==2020.1.1\n",
        "!pip install certifi==2019.11.28\n",
        "!pip install cffi==1.14.0\n",
        "!pip install chardet==3.0.4\n",
        "!pip install click==7.0\n",
        "!pip install cloudpickle==1.3.0\n",
        "!pip install clyent==1.2.2\n",
        "!pip install colorama==0.4.3\n",
        "!pip install comtypes==1.1.7\n",
        "!pip install conda==4.8.3\n",
        "!pip install conda-build==3.18.11\n",
        "!pip install conda-env==2.6.0\n",
        "!pip install conda-package-handling==1.6.0\n",
        "!pip install conda-verify==3.4.2\n",
        "!pip install console_shortcut==0.1.1\n",
        "!pip install contextlib2==0.6.0.post1\n",
        "!pip install cryptography==2.8\n",
        "!pip install curl==7.68.0\n",
        "!pip install cycler==0.10.0\n",
        "!pip install cython==0.29.15\n",
        "!pip install cytoolz==0.10.1\n",
        "!pip install dask==2.11.0\n",
        "!pip install dask-core==2.11.0\n",
        "!pip install decorator==4.4.1\n",
        "!pip install defusedxml==0.6.0\n",
        "!pip install diff-match-patch==20181111\n",
        "!pip install distributed==2.11.0\n",
        "!pip install docutils==0.16\n",
        "!pip install entrypoints==0.3\n",
        "!pip install et_xmlfile==1.0.1\n",
        "!pip install fastcache==1.1.0\n",
        "!pip install filelock==3.0.12\n",
        "!pip install flake8==3.7.9\n",
        "!pip install flask==1.1.1\n",
        "!pip install freetype==2.9.1\n",
        "!pip install fsspec==0.6.2\n",
        "!pip install future==0.18.2\n",
        "!pip install gast==0.3.3\n",
        "!pip install get_terminal_size==1.0.0\n",
        "!pip install gevent==1.4.0\n",
        "!pip install glob2==0.7\n",
        "!pip install greenlet==0.4.15\n",
        "!pip install grpcio==1.23.0\n",
        "!pip install h5py==2.10.0\n",
        "!pip install hdf5==1.10.4\n",
        "!pip install heapdict==1.0.1\n",
        "!pip install html5lib==1.0.1\n",
        "!pip install hypothesis==5.5.4\n",
        "!pip install icc_rt==2019.0.0\n",
        "!pip install icu==58.2\n",
        "!pip install idna==2.8\n",
        "!pip install imageio==2.6.1\n",
        "!pip install imagesize==1.2.0\n",
        "!pip install importlib-metadata==1.7.0\n",
        "!pip install importlib_metadata==1.5.0\n",
        "!pip install intel-openmp==2020.0\n",
        "!pip install intervaltree==3.0.2\n",
        "!pip install ipykernel==5.1.4\n",
        "!pip install ipython==7.12.0\n",
        "!pip install ipython_genutils==0.2.0\n",
        "!pip install ipywidgets==7.5.1\n",
        "!pip install isort==4.3.21\n",
        "!pip install itsdangerous==1.1.0\n",
        "!pip install jdcal==1.4.1\n",
        "!pip install jedi==0.14.1\n",
        "!pip install jinja2==2.11.1\n",
        "!pip install joblib==0.14.1\n",
        "!pip install jpeg==9b\n",
        "!pip install json5==0.9.1\n",
        "!pip install jsonschema==3.2.0\n",
        "!pip install jupyter==1.0.0\n",
        "!pip install jupyter_client==5.3.4\n",
        "!pip install jupyter_console==6.1.0\n",
        "!pip install jupyter_core==4.6.1\n",
        "!pip install jupyterlab==1.2.6\n",
        "!pip install jupyterlab_server==1.0.6\n",
        "!pip install keras==2.3.1\n",
        "!pip install keras-applications==1.0.8\n",
        "!pip install keras-preprocessing==1.1.0\n",
        "!pip install keyring==21.1.0\n",
        "!pip install kiwisolver==1.1.0\n",
        "!pip install krb5==1.17.1\n",
        "!pip install lazy-object-proxy==1.4.3\n",
        "!pip install libarchive==3.3.3\n",
        "!pip install libcurl==7.68.0\n",
        "!pip install libgpuarray==0.7.6\n",
        "!pip install libiconv==1.15\n",
        "!pip install liblief==0.9.0\n",
        "!pip install libpng==1.6.37\n",
        "!pip install libprotobuf==3.12.3\n",
        "!pip install libsodium==1.0.16\n",
        "!pip install libspatialindex==1.9.3\n",
        "!pip install libssh2==1.8.2\n",
        "!pip install libtiff==4.1.0\n",
        "!pip install libxml2==2.9.9\n",
        "!pip install libxslt==1.1.33\n",
        "!pip install llvmlite==0.31.0\n",
        "!pip install locket==0.2.0\n",
        "!pip install lxml==4.5.0\n",
        "!pip install lz4-c==1.8.1.2\n",
        "!pip install lzo==2.10\n",
        "!pip install m2w64-gcc-libgfortran==5.3.0\n",
        "!pip install m2w64-gcc-libs==5.3.0\n",
        "!pip install m2w64-gcc-libs-core==5.3.0\n",
        "!pip install m2w64-gmp==6.1.0\n",
        "!pip install m2w64-libwinpthread-git==5.0.0.4634.697f757\n",
        "!pip install mako==1.1.0\n",
        "!pip install markdown==3.2.2\n",
        "!pip install markupsafe==1.1.1\n",
        "!pip install matplotlib==3.1.3\n",
        "!pip install matplotlib-base==3.1.3\n",
        "!pip install mccabe==0.6.1\n",
        "!pip install menuinst==1.4.16\n",
        "!pip install mistune==0.8.4\n",
        "!pip install mkl==2020.0\n",
        "!pip install mkl-service==2.3.0\n",
        "!pip install mkl_fft==1.0.15\n",
        "!pip install mkl_random==1.1.0\n",
        "!pip install mock==4.0.1\n",
        "!pip install more-itertools==8.2.0\n",
        "!pip install mpmath==1.1.0\n",
        "!pip install msgpack-python==0.6.1\n",
        "!pip install msys2-conda-epoch==20160418\n",
        "!pip install multipledispatch==0.6.0\n",
        "!pip install navigator-updater==0.2.1\n",
        "!pip install nbconvert==5.6.1\n",
        "!pip install nbformat==5.0.4\n",
        "!pip install networkx==2.4\n",
        "!pip install nltk==3.4.5\n",
        "!pip install nose==1.3.7\n",
        "!pip install notebook==6.0.3\n",
        "!pip install numba==0.48.0\n",
        "!pip install numexpr==2.7.1\n",
        "!pip install numpy==1.18.1\n",
        "!pip install numpy-base==1.18.1\n",
        "!pip install numpydoc==0.9.2\n",
        "!pip install olefile==0.46\n",
        "!pip install openpyxl==3.0.3\n",
        "!pip install openssl==1.1.1d\n",
        "!pip install packaging==20.1\n",
        "!pip install pandas==1.0.1\n",
        "!pip install pandoc==2.2.3.2\n",
        "!pip install pandocfilters==1.4.2\n",
        "!pip install paramiko==2.7.1\n",
        "!pip install parso==0.5.2\n",
        "!pip install partd==1.1.0\n",
        "!pip install path==13.1.0\n",
        "!pip install path.py==12.4.0\n",
        "!pip install pathlib2==2.3.5\n",
        "!pip install pathtools==0.1.2\n",
        "!pip install patsy==0.5.1\n",
        "!pip install pep8==1.7.1\n",
        "!pip install pexpect==4.8.0\n",
        "!pip install pickleshare==0.7.5\n",
        "!pip install pillow==7.0.0\n",
        "!pip install !pip==20.0.2\n",
        "!pip install pkginfo==1.5.0.1\n",
        "!pip install pluggy==0.13.1\n",
        "!pip install ply==3.11\n",
        "!pip install powershell_shortcut==0.0.1\n",
        "!pip install prometheus_client==0.7.1\n",
        "!pip install prompt_toolkit==3.0.3\n",
        "!pip install protobuf==3.12.3\n",
        "!pip install psutil==5.6.7\n",
        "!pip install py==1.8.1\n",
        "!pip install py-lief==0.9.0\n",
        "!pip install pycodestyle==2.5.0\n",
        "!pip install pycosat==0.6.3\n",
        "!pip install pycparser==2.19\n",
        "!pip install pycrypto==2.6.1\n",
        "!pip install pycurl==7.43.0.5\n",
        "!pip install pydocstyle==4.0.1\n",
        "!pip install pyflakes==2.1.1\n",
        "!pip install pygments==2.5.2\n",
        "!pip install pygpu==0.7.6\n",
        "!pip install pylint==2.4.4\n",
        "!pip install pynacl==1.3.0\n",
        "!pip install pyodbc==4.0.30\n",
        "!pip install pyopenssl==19.1.0\n",
        "!pip install pyparsing==2.4.6\n",
        "!pip install pyqt==5.9.2\n",
        "!pip install pyreadline==2.1\n",
        "!pip install pyrsistent==0.15.7\n",
        "!pip install pysocks==1.7.1\n",
        "!pip install pytables==3.6.1\n",
        "!pip install pytest==5.3.5\n",
        "!pip install pytest-arraydiff==0.3\n",
        "!pip install pytest-astropy==0.8.0\n",
        "!pip install pytest-astropy-header==0.1.2\n",
        "!pip install pytest-doctestplus==0.5.0\n",
        "!pip install pytest-openfiles==0.4.0\n",
        "!pip install pytest-remotedata==0.3.2\n",
        "!pip install python==3.7.6\n",
        "!pip install python-dateutil==2.8.1\n",
        "!pip install python-jsonrpc-server==0.3.4\n",
        "!pip install python-language-server==0.31.7\n",
        "!pip install python-libarchive-c==2.8\n",
        "!pip install python_abi==3.7\n",
        "!pip install pytz==2019.3\n",
        "!pip install pywavelets==1.1.1\n",
        "!pip install pywin32==227\n",
        "!pip install pywin32-ctypes==0.2.0\n",
        "!pip install pywinpty==0.5.7\n",
        "!pip install pyyaml==5.3\n",
        "!pip install pyzmq==18.1.1\n",
        "!pip install qdarkstyle==2.8\n",
        "!pip install qt==5.9.7\n",
        "!pip install qtawesome==0.6.1\n",
        "!pip install qtconsole==4.6.0\n",
        "!pip install qtpy==1.9.0\n",
        "!pip install requests==2.22.0\n",
        "!pip install rope==0.16.0\n",
        "!pip install rtree==0.9.3\n",
        "!pip install ruamel_yaml==0.15.87\n",
        "!pip install scikit-image==0.16.2\n",
        "!pip install scikit-learn==0.22.1\n",
        "!pip install scipy==1.4.1\n",
        "!pip install seaborn==0.10.0\n",
        "!pip install send2trash==1.5.0\n",
        "!pip install setuptools==45.2.0\n",
        "!pip install simplegeneric==0.8.1\n",
        "!pip install singledispatch==3.4.0.3\n",
        "!pip install sip==4.19.8\n",
        "!pip install six==1.14.0\n",
        "!pip install snappy==1.1.7\n",
        "!pip install snowballstemmer==2.0.0\n",
        "!pip install sortedcollections==1.1.2\n",
        "!pip install sortedcontainers==2.1.0\n",
        "!pip install soupsieve==1.9.5\n",
        "!pip install sphinx==2.4.0\n",
        "!pip install sphinxcontrib==1.0\n",
        "!pip install sphinxcontrib-applehelp==1.0.1\n",
        "!pip install sphinxcontrib-devhelp==1.0.1\n",
        "!pip install sphinxcontrib-htmlhelp==1.0.2\n",
        "!pip install sphinxcontrib-jsmath==1.0.1\n",
        "!pip install sphinxcontrib-qthelp==1.0.2\n",
        "!pip install sphinxcontrib-serializinghtml==1.1.3\n",
        "!pip install sphinxcontrib-websupport==1.2.0\n",
        "!pip install spyder==4.0.1\n",
        "!pip install spyder-kernels==1.8.1\n",
        "!pip install sqlalchemy==1.3.13\n",
        "!pip install sqlite==3.31.1\n",
        "!pip install statsmodels==0.11.0\n",
        "!pip install sympy==1.5.1\n",
        "!pip install tbb==2020.0\n",
        "!pip install tblib==1.6.0\n",
        "!pip install tensorboard==1.13.1\n",
        "!pip install tensorflow==1.13.1\n",
        "!pip install tensorflow-estimator==1.13.0\n",
        "!pip install termcolor==1.1.0\n",
        "!pip install terminado==0.8.3\n",
        "!pip install testpath==0.4.4\n",
        "!pip install theano==1.0.4\n",
        "!pip install tk==8.6.8\n",
        "!pip install toolz==0.10.0\n",
        "!pip install tornado==6.0.3\n",
        "!pip install tqdm==4.42.1\n",
        "!pip install traitlets==4.3.3\n",
        "!pip install ujson==1.35\n",
        "!pip install unicodecsv==0.14.1\n",
        "!pip install urllib3==1.25.8\n",
        "!pip install vc==14.1\n",
        "!pip install vs2015_runtime==14.16.27012\n",
        "!pip install vs2017_win-64==19.16.27038\n",
        "!pip install vswhere==2.7.1\n",
        "!pip install watchdog==0.10.2\n",
        "!pip install wcwidth==0.1.8\n",
        "!pip install webencodings==0.5.1\n",
        "!pip install werkzeug==1.0.0\n",
        "!pip install wheel==0.34.2\n",
        "!pip install widgetsnbextension==3.5.1\n",
        "!pip install win_inet_pton==1.1.0\n",
        "!pip install win_unicode_console==0.5\n",
        "!pip install wincertstore==0.2\n",
        "!pip install winpty==0.4.3\n",
        "!pip install wrapt==1.11.2\n",
        "!pip install xlrd==1.2.0\n",
        "!pip install xlsxwriter==1.2.7\n",
        "!pip install xlwings==0.17.1\n",
        "!pip install xlwt==1.3.0\n",
        "!pip install xmltodict==0.12.0\n",
        "!pip install xz==5.2.4\n",
        "!pip install yaml==0.1.7\n",
        "!pip install yapf==0.28.0\n",
        "!pip install zeromq==4.3.1\n",
        "!pip install zict==1.0.0\n",
        "!pip install zipp==2.2.0\n",
        "!pip install zlib==1.2.11\n",
        "!pip install zstd==1.3.7\n",
        "!pip install netron====4.3.8"
      ],
      "execution_count": null,
      "outputs": []
    }
  ]
}