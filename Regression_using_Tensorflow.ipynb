{
  "nbformat": 4,
  "nbformat_minor": 0,
  "metadata": {
    "colab": {
      "name": "Regression using Tensorflow.ipynb",
      "provenance": [],
      "authorship_tag": "ABX9TyO2vMqRIdPUlwi/gpZ4DWLE",
      "include_colab_link": true
    },
    "kernelspec": {
      "name": "python3",
      "display_name": "Python 3"
    }
  },
  "cells": [
    {
      "cell_type": "markdown",
      "metadata": {
        "id": "view-in-github",
        "colab_type": "text"
      },
      "source": [
        "<a href=\"https://colab.research.google.com/github/yashraj02/Tensorflow/blob/master/Regression_using_Tensorflow.ipynb\" target=\"_parent\"><img src=\"https://colab.research.google.com/assets/colab-badge.svg\" alt=\"Open In Colab\"/></a>"
      ]
    },
    {
      "cell_type": "markdown",
      "metadata": {
        "id": "abKJMdvKtn8V",
        "colab_type": "text"
      },
      "source": [
        "**Explore Tensorflow Low level operations: 2**   \n",
        "This code has required version dependencies.  \n",
        "Kindly run the pip commands mentioned at the bottom of the pasge for version interruptions "
      ]
    },
    {
      "cell_type": "markdown",
      "metadata": {
        "id": "xxqvmZSKxV4x",
        "colab_type": "text"
      },
      "source": [
        "## Tensorflow Regression"
      ]
    },
    {
      "cell_type": "code",
      "metadata": {
        "id": "O_Hp-4aNtkeC",
        "colab_type": "code",
        "colab": {}
      },
      "source": [
        "import numpy as np\n",
        "import pandas as pd\n",
        "import matplotlib.pyplot as plt\n",
        "%matplotlib inline"
      ],
      "execution_count": 12,
      "outputs": []
    },
    {
      "cell_type": "code",
      "metadata": {
        "id": "FD89wXiYtkb4",
        "colab_type": "code",
        "colab": {}
      },
      "source": [
        "improt tensorflow as tf"
      ],
      "execution_count": null,
      "outputs": []
    },
    {
      "cell_type": "markdown",
      "metadata": {
        "id": "FIdwIfQbyha6",
        "colab_type": "text"
      },
      "source": [
        "The NumPy linspace function (sometimes called np. linspace) is a tool in Python for creating numeric sequences. It's somewhat similar to the NumPy arange function, in that it creates sequences of evenly spaced numbers structured as a NumPy array."
      ]
    },
    {
      "cell_type": "code",
      "metadata": {
        "id": "UelYDljYtkYU",
        "colab_type": "code",
        "colab": {}
      },
      "source": [
        "xdata = np.linspace(0.0,10.0,1000000)\n",
        "noise = np.random.randn(len(xdata))"
      ],
      "execution_count": 13,
      "outputs": []
    },
    {
      "cell_type": "code",
      "metadata": {
        "id": "C-QDEmehtkWG",
        "colab_type": "code",
        "colab": {
          "base_uri": "https://localhost:8080/",
          "height": 52
        },
        "outputId": "f1c0a7e7-1087-4c2b-9d6f-40ab77e03021"
      },
      "source": [
        "noise"
      ],
      "execution_count": 14,
      "outputs": [
        {
          "output_type": "execute_result",
          "data": {
            "text/plain": [
              "array([ 0.15229415, -1.60945388, -2.22466401, ...,  2.1776864 ,\n",
              "        0.1378189 , -2.05488188])"
            ]
          },
          "metadata": {
            "tags": []
          },
          "execution_count": 14
        }
      ]
    },
    {
      "cell_type": "markdown",
      "metadata": {
        "id": "VkVnhjJIzjBX",
        "colab_type": "text"
      },
      "source": [
        "y = mx + b + some-noise  \n",
        "b = 5"
      ]
    },
    {
      "cell_type": "code",
      "metadata": {
        "id": "fN8vTVLEzcES",
        "colab_type": "code",
        "colab": {}
      },
      "source": [
        "ytrue = (0.5*xdata) + 5 + noise"
      ],
      "execution_count": 15,
      "outputs": []
    },
    {
      "cell_type": "code",
      "metadata": {
        "id": "i9UtfNaozcB5",
        "colab_type": "code",
        "colab": {}
      },
      "source": [
        "x_df = pd.DataFrame(data=xdata, columns=['XData'])\n",
        "y_df = pd.DataFrame(data=ytrue, columns=['Y'])"
      ],
      "execution_count": 18,
      "outputs": []
    },
    {
      "cell_type": "code",
      "metadata": {
        "id": "r50o9RSZzb_4",
        "colab_type": "code",
        "colab": {
          "base_uri": "https://localhost:8080/",
          "height": 200
        },
        "outputId": "f432d96c-fc71-4400-f15c-de16b4a9c451"
      },
      "source": [
        "x_df.head()"
      ],
      "execution_count": 21,
      "outputs": [
        {
          "output_type": "execute_result",
          "data": {
            "text/html": [
              "<div>\n",
              "<style scoped>\n",
              "    .dataframe tbody tr th:only-of-type {\n",
              "        vertical-align: middle;\n",
              "    }\n",
              "\n",
              "    .dataframe tbody tr th {\n",
              "        vertical-align: top;\n",
              "    }\n",
              "\n",
              "    .dataframe thead th {\n",
              "        text-align: right;\n",
              "    }\n",
              "</style>\n",
              "<table border=\"1\" class=\"dataframe\">\n",
              "  <thead>\n",
              "    <tr style=\"text-align: right;\">\n",
              "      <th></th>\n",
              "      <th>XData</th>\n",
              "    </tr>\n",
              "  </thead>\n",
              "  <tbody>\n",
              "    <tr>\n",
              "      <th>0</th>\n",
              "      <td>0.00000</td>\n",
              "    </tr>\n",
              "    <tr>\n",
              "      <th>1</th>\n",
              "      <td>0.00001</td>\n",
              "    </tr>\n",
              "    <tr>\n",
              "      <th>2</th>\n",
              "      <td>0.00002</td>\n",
              "    </tr>\n",
              "    <tr>\n",
              "      <th>3</th>\n",
              "      <td>0.00003</td>\n",
              "    </tr>\n",
              "    <tr>\n",
              "      <th>4</th>\n",
              "      <td>0.00004</td>\n",
              "    </tr>\n",
              "  </tbody>\n",
              "</table>\n",
              "</div>"
            ],
            "text/plain": [
              "     XData\n",
              "0  0.00000\n",
              "1  0.00001\n",
              "2  0.00002\n",
              "3  0.00003\n",
              "4  0.00004"
            ]
          },
          "metadata": {
            "tags": []
          },
          "execution_count": 21
        }
      ]
    },
    {
      "cell_type": "code",
      "metadata": {
        "id": "pVVCmeU5zb94",
        "colab_type": "code",
        "colab": {
          "base_uri": "https://localhost:8080/",
          "height": 200
        },
        "outputId": "d8c77a42-fd1a-4a7d-c043-cbfe7c8b2d88"
      },
      "source": [
        "y_df.head()"
      ],
      "execution_count": 22,
      "outputs": [
        {
          "output_type": "execute_result",
          "data": {
            "text/html": [
              "<div>\n",
              "<style scoped>\n",
              "    .dataframe tbody tr th:only-of-type {\n",
              "        vertical-align: middle;\n",
              "    }\n",
              "\n",
              "    .dataframe tbody tr th {\n",
              "        vertical-align: top;\n",
              "    }\n",
              "\n",
              "    .dataframe thead th {\n",
              "        text-align: right;\n",
              "    }\n",
              "</style>\n",
              "<table border=\"1\" class=\"dataframe\">\n",
              "  <thead>\n",
              "    <tr style=\"text-align: right;\">\n",
              "      <th></th>\n",
              "      <th>Y</th>\n",
              "    </tr>\n",
              "  </thead>\n",
              "  <tbody>\n",
              "    <tr>\n",
              "      <th>0</th>\n",
              "      <td>5.152294</td>\n",
              "    </tr>\n",
              "    <tr>\n",
              "      <th>1</th>\n",
              "      <td>3.390551</td>\n",
              "    </tr>\n",
              "    <tr>\n",
              "      <th>2</th>\n",
              "      <td>2.775346</td>\n",
              "    </tr>\n",
              "    <tr>\n",
              "      <th>3</th>\n",
              "      <td>5.175125</td>\n",
              "    </tr>\n",
              "    <tr>\n",
              "      <th>4</th>\n",
              "      <td>3.723161</td>\n",
              "    </tr>\n",
              "  </tbody>\n",
              "</table>\n",
              "</div>"
            ],
            "text/plain": [
              "          Y\n",
              "0  5.152294\n",
              "1  3.390551\n",
              "2  2.775346\n",
              "3  5.175125\n",
              "4  3.723161"
            ]
          },
          "metadata": {
            "tags": []
          },
          "execution_count": 22
        }
      ]
    },
    {
      "cell_type": "code",
      "metadata": {
        "id": "wUYABeamzb63",
        "colab_type": "code",
        "colab": {}
      },
      "source": [
        "mydata = pd.concat([x_df,y_df], axis=1)"
      ],
      "execution_count": 23,
      "outputs": []
    },
    {
      "cell_type": "code",
      "metadata": {
        "id": "mXEOJoEdzb3X",
        "colab_type": "code",
        "colab": {
          "base_uri": "https://localhost:8080/",
          "height": 200
        },
        "outputId": "71180797-2eb4-4cb8-a30f-e30b24830ace"
      },
      "source": [
        "mydata.head()"
      ],
      "execution_count": 25,
      "outputs": [
        {
          "output_type": "execute_result",
          "data": {
            "text/html": [
              "<div>\n",
              "<style scoped>\n",
              "    .dataframe tbody tr th:only-of-type {\n",
              "        vertical-align: middle;\n",
              "    }\n",
              "\n",
              "    .dataframe tbody tr th {\n",
              "        vertical-align: top;\n",
              "    }\n",
              "\n",
              "    .dataframe thead th {\n",
              "        text-align: right;\n",
              "    }\n",
              "</style>\n",
              "<table border=\"1\" class=\"dataframe\">\n",
              "  <thead>\n",
              "    <tr style=\"text-align: right;\">\n",
              "      <th></th>\n",
              "      <th>XData</th>\n",
              "      <th>Y</th>\n",
              "    </tr>\n",
              "  </thead>\n",
              "  <tbody>\n",
              "    <tr>\n",
              "      <th>0</th>\n",
              "      <td>0.00000</td>\n",
              "      <td>5.152294</td>\n",
              "    </tr>\n",
              "    <tr>\n",
              "      <th>1</th>\n",
              "      <td>0.00001</td>\n",
              "      <td>3.390551</td>\n",
              "    </tr>\n",
              "    <tr>\n",
              "      <th>2</th>\n",
              "      <td>0.00002</td>\n",
              "      <td>2.775346</td>\n",
              "    </tr>\n",
              "    <tr>\n",
              "      <th>3</th>\n",
              "      <td>0.00003</td>\n",
              "      <td>5.175125</td>\n",
              "    </tr>\n",
              "    <tr>\n",
              "      <th>4</th>\n",
              "      <td>0.00004</td>\n",
              "      <td>3.723161</td>\n",
              "    </tr>\n",
              "  </tbody>\n",
              "</table>\n",
              "</div>"
            ],
            "text/plain": [
              "     XData         Y\n",
              "0  0.00000  5.152294\n",
              "1  0.00001  3.390551\n",
              "2  0.00002  2.775346\n",
              "3  0.00003  5.175125\n",
              "4  0.00004  3.723161"
            ]
          },
          "metadata": {
            "tags": []
          },
          "execution_count": 25
        }
      ]
    },
    {
      "cell_type": "code",
      "metadata": {
        "id": "2TP2WAY1tkTI",
        "colab_type": "code",
        "colab": {}
      },
      "source": [
        "Lets Plot a small sample"
      ],
      "execution_count": null,
      "outputs": []
    },
    {
      "cell_type": "code",
      "metadata": {
        "id": "jVmHBxM_tkNz",
        "colab_type": "code",
        "colab": {
          "base_uri": "https://localhost:8080/",
          "height": 297
        },
        "outputId": "5b368f8d-5140-4491-e090-45c921b25f05"
      },
      "source": [
        "mydata.sample(n=250).plot(kind='scatter',x='XData', y='Y')"
      ],
      "execution_count": 27,
      "outputs": [
        {
          "output_type": "execute_result",
          "data": {
            "text/plain": [
              "<matplotlib.axes._subplots.AxesSubplot at 0x7efdd2e699b0>"
            ]
          },
          "metadata": {
            "tags": []
          },
          "execution_count": 27
        },
        {
          "output_type": "display_data",
          "data": {
            "image/png": "[encoded data removed]",
            "text/plain": [
              "<Figure size 432x288 with 1 Axes>"
            ]
          },
          "metadata": {
            "tags": [],
            "needs_background": "light"
          }
        }
      ]
    },
    {
      "cell_type": "markdown",
      "metadata": {
        "id": "BPM-NTwj1epq",
        "colab_type": "text"
      },
      "source": [
        "Now we will feed data in batchec for memory efficient training  \n",
        "generally multiple of 2^"
      ]
    },
    {
      "cell_type": "code",
      "metadata": {
        "id": "6jA4y6mI1L_A",
        "colab_type": "code",
        "colab": {}
      },
      "source": [
        "batch_size = 8"
      ],
      "execution_count": 31,
      "outputs": []
    },
    {
      "cell_type": "markdown",
      "metadata": {
        "id": "jH2JFWbo13Bd",
        "colab_type": "text"
      },
      "source": [
        "Generating 2 random numbers for slope & intercept"
      ]
    },
    {
      "cell_type": "code",
      "metadata": {
        "id": "_tyQsKAq1L6p",
        "colab_type": "code",
        "colab": {
          "base_uri": "https://localhost:8080/",
          "height": 35
        },
        "outputId": "ae208593-04fe-4f5b-de89-a52a90216bc6"
      },
      "source": [
        "np.random.randn(2)"
      ],
      "execution_count": 29,
      "outputs": [
        {
          "output_type": "execute_result",
          "data": {
            "text/plain": [
              "array([0.41167389, 0.24231242])"
            ]
          },
          "metadata": {
            "tags": []
          },
          "execution_count": 29
        }
      ]
    },
    {
      "cell_type": "code",
      "metadata": {
        "id": "W3v9f7ii1L25",
        "colab_type": "code",
        "colab": {}
      },
      "source": [
        "m = tf.Variable(0.41)\n",
        "b = tf.Variable(0.25)"
      ],
      "execution_count": 32,
      "outputs": []
    },
    {
      "cell_type": "markdown",
      "metadata": {
        "id": "1xtK-ZBp2ISO",
        "colab_type": "text"
      },
      "source": [
        "Creating placeholder for x & y"
      ]
    },
    {
      "cell_type": "code",
      "metadata": {
        "id": "HyXi3YCH1Lzu",
        "colab_type": "code",
        "colab": {}
      },
      "source": [
        "xph = tf.placeholder(tf.float32,[batch_size])\n",
        "yph = tf.placeholder(tf.float32,[batch_size])"
      ],
      "execution_count": 33,
      "outputs": []
    },
    {
      "cell_type": "markdown",
      "metadata": {
        "id": "ipiHMorZ2ese",
        "colab_type": "text"
      },
      "source": [
        "Defining Graph (ie Operations)"
      ]
    },
    {
      "cell_type": "code",
      "metadata": {
        "id": "9EAO6NqZ1Lw5",
        "colab_type": "code",
        "colab": {}
      },
      "source": [
        "y_model = m * xph + b"
      ],
      "execution_count": 35,
      "outputs": []
    },
    {
      "cell_type": "markdown",
      "metadata": {
        "id": "hWGEUo_n2v8_",
        "colab_type": "text"
      },
      "source": [
        "Loss Function"
      ]
    },
    {
      "cell_type": "code",
      "metadata": {
        "id": "ELp2l9rF2eAa",
        "colab_type": "code",
        "colab": {}
      },
      "source": [
        "error = tf.reduce_sum(tf.square(yph - y_model))"
      ],
      "execution_count": 36,
      "outputs": []
    },
    {
      "cell_type": "markdown",
      "metadata": {
        "id": "sZQkbb7w3ru_",
        "colab_type": "text"
      },
      "source": [
        "Optimizer"
      ]
    },
    {
      "cell_type": "code",
      "metadata": {
        "id": "BKC5bB9n2d9k",
        "colab_type": "code",
        "colab": {}
      },
      "source": [
        "optimizer = tf.train.GradientDescentOptimizer(learning_rate=0.001)\n",
        "train = optimizer.minimize(error)"
      ],
      "execution_count": 37,
      "outputs": []
    },
    {
      "cell_type": "code",
      "metadata": {
        "id": "z63BKby_2d6X",
        "colab_type": "code",
        "colab": {}
      },
      "source": [
        "init = tf.global_variables_initializer()\n",
        "with tf.Session() as sess:\n",
        "  sess.run(init)\n",
        "  batches = 10000\n",
        "\n",
        "  for i in range(batches):\n",
        "    rand_ind = np.random.randint(len(xdata), size = batch_size)\n",
        "    feed = {xph:xdata[rand_ind], yph:ytrue[rand_ind]}\n",
        "    sess.run(train,feed_dict = feed)\n",
        "  model_m , model_b = sess.run([m,b])\n"
      ],
      "execution_count": 50,
      "outputs": []
    },
    {
      "cell_type": "code",
      "metadata": {
        "id": "2mcUv6zS2d0h",
        "colab_type": "code",
        "colab": {
          "base_uri": "https://localhost:8080/",
          "height": 35
        },
        "outputId": "f4204d12-4c59-4f08-cf8c-0b59944d58b9"
      },
      "source": [
        "model_m"
      ],
      "execution_count": 51,
      "outputs": [
        {
          "output_type": "execute_result",
          "data": {
            "text/plain": [
              "0.5523649"
            ]
          },
          "metadata": {
            "tags": []
          },
          "execution_count": 51
        }
      ]
    },
    {
      "cell_type": "code",
      "metadata": {
        "id": "4ay1Ksmb1Lt2",
        "colab_type": "code",
        "colab": {
          "base_uri": "https://localhost:8080/",
          "height": 35
        },
        "outputId": "49745d0b-7bc4-4f9c-d543-9743bbabd692"
      },
      "source": [
        "model_b"
      ],
      "execution_count": 52,
      "outputs": [
        {
          "output_type": "execute_result",
          "data": {
            "text/plain": [
              "4.9496293"
            ]
          },
          "metadata": {
            "tags": []
          },
          "execution_count": 52
        }
      ]
    },
    {
      "cell_type": "markdown",
      "metadata": {
        "id": "FOryb93w5oaB",
        "colab_type": "text"
      },
      "source": [
        "So we stated off with m = 0.41 & b = 0.25 & ended with probabitlites  \n",
        "model_m = 0.53 & model_b = 4.89"
      ]
    },
    {
      "cell_type": "code",
      "metadata": {
        "id": "WROBr2A61LnJ",
        "colab_type": "code",
        "colab": {
          "base_uri": "https://localhost:8080/",
          "height": 297
        },
        "outputId": "b07d256a-2e25-45eb-8f88-232b5c7c1842"
      },
      "source": [
        "y_hat = xdata*model_m + model_b\n",
        "mydata.sample(n=250).plot(kind='scatter', x='XData', y='Y')\n",
        "plt.plot(xdata,y_hat)"
      ],
      "execution_count": 57,
      "outputs": [
        {
          "output_type": "execute_result",
          "data": {
            "text/plain": [
              "[<matplotlib.lines.Line2D at 0x7efdbd15edd8>]"
            ]
          },
          "metadata": {
            "tags": []
          },
          "execution_count": 57
        },
        {
          "output_type": "display_data",
          "data": {
            "image/png": "[encoded data removed]",
            "text/plain": [
              "<Figure size 432x288 with 1 Axes>"
            ]
          },
          "metadata": {
            "tags": [],
            "needs_background": "light"
          }
        }
      ]
    },
    {
      "cell_type": "markdown",
      "metadata": {
        "id": "nHVDnTs260jM",
        "colab_type": "text"
      },
      "source": [
        "**I have a pretty nice linear fit there.\n",
        "We can play with batch size & batches & Loss function.\n",
        "But by far this is a good fit considering the noise also we cant go much further with a Linear Regression which is basically a straight line.**"
      ]
    },
    {
      "cell_type": "code",
      "metadata": {
        "id": "maVnTJ5Y1LjT",
        "colab_type": "code",
        "colab": {}
      },
      "source": [
        ""
      ],
      "execution_count": null,
      "outputs": []
    },
    {
      "cell_type": "code",
      "metadata": {
        "id": "5L_P0m3B6ybf",
        "colab_type": "code",
        "colab": {}
      },
      "source": [
        ""
      ],
      "execution_count": null,
      "outputs": []
    },
    {
      "cell_type": "code",
      "metadata": {
        "id": "Sx8pINSK6yXs",
        "colab_type": "code",
        "colab": {}
      },
      "source": [
        ""
      ],
      "execution_count": null,
      "outputs": []
    },
    {
      "cell_type": "code",
      "metadata": {
        "id": "PzQD8nP26yU0",
        "colab_type": "code",
        "colab": {}
      },
      "source": [
        ""
      ],
      "execution_count": null,
      "outputs": []
    },
    {
      "cell_type": "code",
      "metadata": {
        "id": "MbmR7cvF6yRG",
        "colab_type": "code",
        "colab": {}
      },
      "source": [
        ""
      ],
      "execution_count": null,
      "outputs": []
    },
    {
      "cell_type": "code",
      "metadata": {
        "id": "l1dSj0LR6yNf",
        "colab_type": "code",
        "colab": {}
      },
      "source": [
        ""
      ],
      "execution_count": null,
      "outputs": []
    },
    {
      "cell_type": "code",
      "metadata": {
        "id": "a1uAiWMjtkLQ",
        "colab_type": "code",
        "colab": {}
      },
      "source": [
        "!pip install _ipyw_jlab_nb_ext_conf==0.1.0\n",
        "!pip install absl-py==0.9.0\n",
        "!pip install alabaster==0.7.12\n",
        "!pip install anaconda==2020.02\n",
        "!pip install anaconda-client==1.7.2\n",
        "!pip install anaconda-navigator==1.9.12\n",
        "!pip install anaconda-project==0.8.4\n",
        "!pip install argh==0.26.2\n",
        "!pip install asn1crypto==1.3.0\n",
        "!pip install astor==0.8.1\n",
        "!pip install astroid==2.3.3\n",
        "!pip install astropy==4.0\n",
        "!pip install atomicwrites==1.3.0\n",
        "!pip install attrs==19.3.0\n",
        "!pip install autopep8==1.4.4\n",
        "!pip install babel==2.8.0\n",
        "!pip install backcall==0.1.0\n",
        "!pip install backports==1.0\n",
        "!pip install backports.functools_lru_cache==1.6.1\n",
        "!pip install backports.shutil_get_terminal_size==1.0.0\n",
        "!pip install backports.tempfile==1.0\n",
        "!pip install backports.weakref==1.0.post1\n",
        "!pip install bcrypt==3.1.7\n",
        "!pip install beautifulsoup4==4.8.2\n",
        "!pip install bitarray==1.2.1\n",
        "!pip install bkcharts==0.2\n",
        "!pip install blas==1.0\n",
        "!pip install bleach==3.1.0\n",
        "!pip install blosc==1.16.3\n",
        "!pip install bokeh==1.4.0\n",
        "!pip install boto==2.49.0\n",
        "!pip install bottleneck==1.3.2\n",
        "!pip install bzip2==1.0.8\n",
        "!pip install ca-certificates==2020.1.1\n",
        "!pip install certifi==2019.11.28\n",
        "!pip install cffi==1.14.0\n",
        "!pip install chardet==3.0.4\n",
        "!pip install click==7.0\n",
        "!pip install cloudpickle==1.3.0\n",
        "!pip install clyent==1.2.2\n",
        "!pip install colorama==0.4.3\n",
        "!pip install comtypes==1.1.7\n",
        "!pip install conda==4.8.3\n",
        "!pip install conda-build==3.18.11\n",
        "!pip install conda-env==2.6.0\n",
        "!pip install conda-package-handling==1.6.0\n",
        "!pip install conda-verify==3.4.2\n",
        "!pip install console_shortcut==0.1.1\n",
        "!pip install contextlib2==0.6.0.post1\n",
        "!pip install cryptography==2.8\n",
        "!pip install curl==7.68.0\n",
        "!pip install cycler==0.10.0\n",
        "!pip install cython==0.29.15\n",
        "!pip install cytoolz==0.10.1\n",
        "!pip install dask==2.11.0\n",
        "!pip install dask-core==2.11.0\n",
        "!pip install decorator==4.4.1\n",
        "!pip install defusedxml==0.6.0\n",
        "!pip install diff-match-patch==20181111\n",
        "!pip install distributed==2.11.0\n",
        "!pip install docutils==0.16\n",
        "!pip install entrypoints==0.3\n",
        "!pip install et_xmlfile==1.0.1\n",
        "!pip install fastcache==1.1.0\n",
        "!pip install filelock==3.0.12\n",
        "!pip install flake8==3.7.9\n",
        "!pip install flask==1.1.1\n",
        "!pip install freetype==2.9.1\n",
        "!pip install fsspec==0.6.2\n",
        "!pip install future==0.18.2\n",
        "!pip install gast==0.3.3\n",
        "!pip install get_terminal_size==1.0.0\n",
        "!pip install gevent==1.4.0\n",
        "!pip install glob2==0.7\n",
        "!pip install greenlet==0.4.15\n",
        "!pip install grpcio==1.23.0\n",
        "!pip install h5py==2.10.0\n",
        "!pip install hdf5==1.10.4\n",
        "!pip install heapdict==1.0.1\n",
        "!pip install html5lib==1.0.1\n",
        "!pip install hypothesis==5.5.4\n",
        "!pip install icc_rt==2019.0.0\n",
        "!pip install icu==58.2\n",
        "!pip install idna==2.8\n",
        "!pip install imageio==2.6.1\n",
        "!pip install imagesize==1.2.0\n",
        "!pip install importlib-metadata==1.7.0\n",
        "!pip install importlib_metadata==1.5.0\n",
        "!pip install intel-openmp==2020.0\n",
        "!pip install intervaltree==3.0.2\n",
        "!pip install ipykernel==5.1.4\n",
        "!pip install ipython==7.12.0\n",
        "!pip install ipython_genutils==0.2.0\n",
        "!pip install ipywidgets==7.5.1\n",
        "!pip install isort==4.3.21\n",
        "!pip install itsdangerous==1.1.0\n",
        "!pip install jdcal==1.4.1\n",
        "!pip install jedi==0.14.1\n",
        "!pip install jinja2==2.11.1\n",
        "!pip install joblib==0.14.1\n",
        "!pip install jpeg==9b\n",
        "!pip install json5==0.9.1\n",
        "!pip install jsonschema==3.2.0\n",
        "!pip install jupyter==1.0.0\n",
        "!pip install jupyter_client==5.3.4\n",
        "!pip install jupyter_console==6.1.0\n",
        "!pip install jupyter_core==4.6.1\n",
        "!pip install jupyterlab==1.2.6\n",
        "!pip install jupyterlab_server==1.0.6\n",
        "!pip install keras==2.3.1\n",
        "!pip install keras-applications==1.0.8\n",
        "!pip install keras-preprocessing==1.1.0\n",
        "!pip install keyring==21.1.0\n",
        "!pip install kiwisolver==1.1.0\n",
        "!pip install krb5==1.17.1\n",
        "!pip install lazy-object-proxy==1.4.3\n",
        "!pip install libarchive==3.3.3\n",
        "!pip install libcurl==7.68.0\n",
        "!pip install libgpuarray==0.7.6\n",
        "!pip install libiconv==1.15\n",
        "!pip install liblief==0.9.0\n",
        "!pip install libpng==1.6.37\n",
        "!pip install libprotobuf==3.12.3\n",
        "!pip install libsodium==1.0.16\n",
        "!pip install libspatialindex==1.9.3\n",
        "!pip install libssh2==1.8.2\n",
        "!pip install libtiff==4.1.0\n",
        "!pip install libxml2==2.9.9\n",
        "!pip install libxslt==1.1.33\n",
        "!pip install llvmlite==0.31.0\n",
        "!pip install locket==0.2.0\n",
        "!pip install lxml==4.5.0\n",
        "!pip install lz4-c==1.8.1.2\n",
        "!pip install lzo==2.10\n",
        "!pip install m2w64-gcc-libgfortran==5.3.0\n",
        "!pip install m2w64-gcc-libs==5.3.0\n",
        "!pip install m2w64-gcc-libs-core==5.3.0\n",
        "!pip install m2w64-gmp==6.1.0\n",
        "!pip install m2w64-libwinpthread-git==5.0.0.4634.697f757\n",
        "!pip install mako==1.1.0\n",
        "!pip install markdown==3.2.2\n",
        "!pip install markupsafe==1.1.1\n",
        "!pip install matplotlib==3.1.3\n",
        "!pip install matplotlib-base==3.1.3\n",
        "!pip install mccabe==0.6.1\n",
        "!pip install menuinst==1.4.16\n",
        "!pip install mistune==0.8.4\n",
        "!pip install mkl==2020.0\n",
        "!pip install mkl-service==2.3.0\n",
        "!pip install mkl_fft==1.0.15\n",
        "!pip install mkl_random==1.1.0\n",
        "!pip install mock==4.0.1\n",
        "!pip install more-itertools==8.2.0\n",
        "!pip install mpmath==1.1.0\n",
        "!pip install msgpack-python==0.6.1\n",
        "!pip install msys2-conda-epoch==20160418\n",
        "!pip install multipledispatch==0.6.0\n",
        "!pip install navigator-updater==0.2.1\n",
        "!pip install nbconvert==5.6.1\n",
        "!pip install nbformat==5.0.4\n",
        "!pip install networkx==2.4\n",
        "!pip install nltk==3.4.5\n",
        "!pip install nose==1.3.7\n",
        "!pip install notebook==6.0.3\n",
        "!pip install numba==0.48.0\n",
        "!pip install numexpr==2.7.1\n",
        "!pip install numpy==1.18.1\n",
        "!pip install numpy-base==1.18.1\n",
        "!pip install numpydoc==0.9.2\n",
        "!pip install olefile==0.46\n",
        "!pip install openpyxl==3.0.3\n",
        "!pip install openssl==1.1.1d\n",
        "!pip install packaging==20.1\n",
        "!pip install pandas==1.0.1\n",
        "!pip install pandoc==2.2.3.2\n",
        "!pip install pandocfilters==1.4.2\n",
        "!pip install paramiko==2.7.1\n",
        "!pip install parso==0.5.2\n",
        "!pip install partd==1.1.0\n",
        "!pip install path==13.1.0\n",
        "!pip install path.py==12.4.0\n",
        "!pip install pathlib2==2.3.5\n",
        "!pip install pathtools==0.1.2\n",
        "!pip install patsy==0.5.1\n",
        "!pip install pep8==1.7.1\n",
        "!pip install pexpect==4.8.0\n",
        "!pip install pickleshare==0.7.5\n",
        "!pip install pillow==7.0.0\n",
        "!pip install !pip==20.0.2\n",
        "!pip install pkginfo==1.5.0.1\n",
        "!pip install pluggy==0.13.1\n",
        "!pip install ply==3.11\n",
        "!pip install powershell_shortcut==0.0.1\n",
        "!pip install prometheus_client==0.7.1\n",
        "!pip install prompt_toolkit==3.0.3\n",
        "!pip install protobuf==3.12.3\n",
        "!pip install psutil==5.6.7\n",
        "!pip install py==1.8.1\n",
        "!pip install py-lief==0.9.0\n",
        "!pip install pycodestyle==2.5.0\n",
        "!pip install pycosat==0.6.3\n",
        "!pip install pycparser==2.19\n",
        "!pip install pycrypto==2.6.1\n",
        "!pip install pycurl==7.43.0.5\n",
        "!pip install pydocstyle==4.0.1\n",
        "!pip install pyflakes==2.1.1\n",
        "!pip install pygments==2.5.2\n",
        "!pip install pygpu==0.7.6\n",
        "!pip install pylint==2.4.4\n",
        "!pip install pynacl==1.3.0\n",
        "!pip install pyodbc==4.0.30\n",
        "!pip install pyopenssl==19.1.0\n",
        "!pip install pyparsing==2.4.6\n",
        "!pip install pyqt==5.9.2\n",
        "!pip install pyreadline==2.1\n",
        "!pip install pyrsistent==0.15.7\n",
        "!pip install pysocks==1.7.1\n",
        "!pip install pytables==3.6.1\n",
        "!pip install pytest==5.3.5\n",
        "!pip install pytest-arraydiff==0.3\n",
        "!pip install pytest-astropy==0.8.0\n",
        "!pip install pytest-astropy-header==0.1.2\n",
        "!pip install pytest-doctestplus==0.5.0\n",
        "!pip install pytest-openfiles==0.4.0\n",
        "!pip install pytest-remotedata==0.3.2\n",
        "!pip install python==3.7.6\n",
        "!pip install python-dateutil==2.8.1\n",
        "!pip install python-jsonrpc-server==0.3.4\n",
        "!pip install python-language-server==0.31.7\n",
        "!pip install python-libarchive-c==2.8\n",
        "!pip install python_abi==3.7\n",
        "!pip install pytz==2019.3\n",
        "!pip install pywavelets==1.1.1\n",
        "!pip install pywin32==227\n",
        "!pip install pywin32-ctypes==0.2.0\n",
        "!pip install pywinpty==0.5.7\n",
        "!pip install pyyaml==5.3\n",
        "!pip install pyzmq==18.1.1\n",
        "!pip install qdarkstyle==2.8\n",
        "!pip install qt==5.9.7\n",
        "!pip install qtawesome==0.6.1\n",
        "!pip install qtconsole==4.6.0\n",
        "!pip install qtpy==1.9.0\n",
        "!pip install requests==2.22.0\n",
        "!pip install rope==0.16.0\n",
        "!pip install rtree==0.9.3\n",
        "!pip install ruamel_yaml==0.15.87\n",
        "!pip install scikit-image==0.16.2\n",
        "!pip install scikit-learn==0.22.1\n",
        "!pip install scipy==1.4.1\n",
        "!pip install seaborn==0.10.0\n",
        "!pip install send2trash==1.5.0\n",
        "!pip install setuptools==45.2.0\n",
        "!pip install simplegeneric==0.8.1\n",
        "!pip install singledispatch==3.4.0.3\n",
        "!pip install sip==4.19.8\n",
        "!pip install six==1.14.0\n",
        "!pip install snappy==1.1.7\n",
        "!pip install snowballstemmer==2.0.0\n",
        "!pip install sortedcollections==1.1.2\n",
        "!pip install sortedcontainers==2.1.0\n",
        "!pip install soupsieve==1.9.5\n",
        "!pip install sphinx==2.4.0\n",
        "!pip install sphinxcontrib==1.0\n",
        "!pip install sphinxcontrib-applehelp==1.0.1\n",
        "!pip install sphinxcontrib-devhelp==1.0.1\n",
        "!pip install sphinxcontrib-htmlhelp==1.0.2\n",
        "!pip install sphinxcontrib-jsmath==1.0.1\n",
        "!pip install sphinxcontrib-qthelp==1.0.2\n",
        "!pip install sphinxcontrib-serializinghtml==1.1.3\n",
        "!pip install sphinxcontrib-websupport==1.2.0\n",
        "!pip install spyder==4.0.1\n",
        "!pip install spyder-kernels==1.8.1\n",
        "!pip install sqlalchemy==1.3.13\n",
        "!pip install sqlite==3.31.1\n",
        "!pip install statsmodels==0.11.0\n",
        "!pip install sympy==1.5.1\n",
        "!pip install tbb==2020.0\n",
        "!pip install tblib==1.6.0\n",
        "!pip install tensorboard==1.13.1\n",
        "!pip install tensorflow==1.13.1\n",
        "!pip install tensorflow-estimator==1.13.0\n",
        "!pip install termcolor==1.1.0\n",
        "!pip install terminado==0.8.3\n",
        "!pip install testpath==0.4.4\n",
        "!pip install theano==1.0.4\n",
        "!pip install tk==8.6.8\n",
        "!pip install toolz==0.10.0\n",
        "!pip install tornado==6.0.3\n",
        "!pip install tqdm==4.42.1\n",
        "!pip install traitlets==4.3.3\n",
        "!pip install ujson==1.35\n",
        "!pip install unicodecsv==0.14.1\n",
        "!pip install urllib3==1.25.8\n",
        "!pip install vc==14.1\n",
        "!pip install vs2015_runtime==14.16.27012\n",
        "!pip install vs2017_win-64==19.16.27038\n",
        "!pip install vswhere==2.7.1\n",
        "!pip install watchdog==0.10.2\n",
        "!pip install wcwidth==0.1.8\n",
        "!pip install webencodings==0.5.1\n",
        "!pip install werkzeug==1.0.0\n",
        "!pip install wheel==0.34.2\n",
        "!pip install widgetsnbextension==3.5.1\n",
        "!pip install win_inet_pton==1.1.0\n",
        "!pip install win_unicode_console==0.5\n",
        "!pip install wincertstore==0.2\n",
        "!pip install winpty==0.4.3\n",
        "!pip install wrapt==1.11.2\n",
        "!pip install xlrd==1.2.0\n",
        "!pip install xlsxwriter==1.2.7\n",
        "!pip install xlwings==0.17.1\n",
        "!pip install xlwt==1.3.0\n",
        "!pip install xmltodict==0.12.0\n",
        "!pip install xz==5.2.4\n",
        "!pip install yaml==0.1.7\n",
        "!pip install yapf==0.28.0\n",
        "!pip install zeromq==4.3.1\n",
        "!pip install zict==1.0.0\n",
        "!pip install zipp==2.2.0\n",
        "!pip install zlib==1.2.11\n",
        "!pip install zstd==1.3.7\n",
        "!pip install netron====4.3.8"
      ],
      "execution_count": null,
      "outputs": []
    }
  ]
}